{
 "cells": [
  {
   "cell_type": "code",
   "execution_count": null,
   "metadata": {},
   "outputs": [],
   "source": [
    "import sys\n",
    "sys.path.insert(0, '../')"
   ]
  },
  {
   "cell_type": "code",
   "execution_count": null,
   "metadata": {},
   "outputs": [],
   "source": [
    "from neural_map import NeuralMap, _plot\n",
    "import matplotlib.pyplot as plt\n",
    "import pandas as pd\n",
    "from sklearn.preprocessing import MinMaxScaler"
   ]
  },
  {
   "cell_type": "code",
   "execution_count": null,
   "metadata": {},
   "outputs": [],
   "source": [
    "df = pd.concat([pd.read_csv(\"datasets/table_219.csv\"), pd.read_csv(\"datasets/table_220.csv\"), pd.read_csv(\"datasets/table_221.csv\")]).drop(['Sex', 'Delta 15 N (o/oo)', 'Delta 13 C (o/oo)', 'Comments'], axis=1).dropna().reset_index(drop=True)\n",
    "l_columns = ['studyName', 'Sample Number', 'Species', 'Region', 'Island', 'Stage', 'Individual ID', 'Clutch Completion', 'Date Egg']\n",
    "col = 'Species'"
   ]
  },
  {
   "cell_type": "code",
   "execution_count": null,
   "metadata": {},
   "outputs": [],
   "source": [
    "scaler = MinMaxScaler()\n",
    "data = scaler.fit_transform(df.drop(l_columns, axis=1).values)\n",
    "\n",
    "data.shape"
   ]
  },
  {
   "cell_type": "code",
   "execution_count": null,
   "metadata": {},
   "outputs": [],
   "source": [
    "som = NeuralMap(z=data.shape[1], x=10, y=10, metric='minkowski', p=5)"
   ]
  },
  {
   "cell_type": "code",
   "execution_count": null,
   "metadata": {
    "scrolled": false
   },
   "outputs": [],
   "source": [
    "som.train(data=data, verbosity=True, num_epochs=20, radius_decay_function='exponential')  # \n",
    "som.evaluate(data=data)"
   ]
  },
  {
   "cell_type": "code",
   "execution_count": null,
   "metadata": {},
   "outputs": [],
   "source": [
    "som.plot_analysis(data, labels=df[col].values, min_cluster_size=3, show_empty_nodes=False)"
   ]
  },
  {
   "cell_type": "code",
   "execution_count": null,
   "metadata": {},
   "outputs": [],
   "source": [
    "a = (1, 2)\n",
    "type(a)"
   ]
  },
  {
   "cell_type": "code",
   "execution_count": null,
   "metadata": {},
   "outputs": [],
   "source": [
    "som.plot_u_matrix(detailed=True, borders=True)"
   ]
  },
  {
   "cell_type": "code",
   "execution_count": null,
   "metadata": {},
   "outputs": [],
   "source": [
    "actfreq, q, mean_distance = som.analyse(data)\n",
    "umatrix, distance_matrix = som.unified_distance_matrix()\n",
    "labels, probabilities, outlier_socer = som.hdbscan(min_cluster_size=3)\n",
    "\n",
    "_plot.tiles(som.cart_coord, som.hexagonal, umatrix[..., -1], title='distancia')\n",
    "_plot.tiles(som.cart_coord, som.hexagonal, actfreq, title='frecuencia de actvación')\n",
    "_plot.tiles(som.cart_coord, som.hexagonal, q, title='error de cuantización')\n",
    "_plot.tiles(som.cart_coord, som.hexagonal, mean_distance, title='distancia media')\n",
    "_plot.tiles(som.cart_coord, som.hexagonal, probabilities, title = 'probabilidad de prtenencia')\n",
    "_plot.tiles(som.cart_coord, som.hexagonal, outlier_socer, title = 'outiler score')"
   ]
  },
  {
   "cell_type": "code",
   "execution_count": null,
   "metadata": {},
   "outputs": [],
   "source": [
    "clusters = 3\n",
    "\n",
    "labels, centers = som.k_means(clusters)\n",
    "_plot.tiles(som.cart_coord, som.hexagonal, labels, norm=False, title='Clustering con K-means. Valor de K = ' + str(clusters), labels=list(range(clusters)), cmap=plt.cm.get_cmap('hsv', clusters + 1))\n",
    "\n",
    "labels, centers = som.k_medoids(clusters)\n",
    "_plot.tiles(som.cart_coord, som.hexagonal, labels, norm=False, title='Clustering con K-medoids. Valor de K = ' + str(clusters), labels=list(range(clusters)), cmap=plt.cm.get_cmap('hsv', clusters + 1))"
   ]
  },
  {
   "cell_type": "code",
   "execution_count": null,
   "metadata": {},
   "outputs": [],
   "source": [
    "som.plot_set_weight_vectors(cluster=0)\n",
    "som.plot_node_weight_vector(node_index=(0, 0))"
   ]
  }
 ],
 "metadata": {
  "kernelspec": {
   "display_name": "Python 3",
   "language": "python",
   "name": "python3"
  },
  "language_info": {
   "codemirror_mode": {
    "name": "ipython",
    "version": 3
   },
   "file_extension": ".py",
   "mimetype": "text/x-python",
   "name": "python",
   "nbconvert_exporter": "python",
   "pygments_lexer": "ipython3",
   "version": "3.8.2"
  }
 },
 "nbformat": 4,
 "nbformat_minor": 4
}
