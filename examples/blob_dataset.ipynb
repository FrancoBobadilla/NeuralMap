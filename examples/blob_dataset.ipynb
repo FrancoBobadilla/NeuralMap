{
 "cells": [
  {
   "cell_type": "code",
   "execution_count": null,
   "metadata": {
    "scrolled": true
   },
   "outputs": [],
   "source": [
    "from numpy import array, log, empty\n",
    "from neural_map import NeuralMap, _plot\n",
    "import matplotlib.pyplot as plt\n",
    "import pandas as pd\n",
    "from sklearn.preprocessing import MinMaxScaler"
   ]
  },
  {
   "cell_type": "code",
   "execution_count": null,
   "metadata": {
    "scrolled": true
   },
   "outputs": [],
   "source": [
    "df = pd.read_csv('datasets/blob_data_5dims_10clusters.csv')\n",
    "l_columns = df.columns[0]\n",
    "col = None"
   ]
  },
  {
   "cell_type": "code",
   "execution_count": null,
   "metadata": {
    "scrolled": true
   },
   "outputs": [],
   "source": [
    "scaler = MinMaxScaler()\n",
    "data = scaler.fit_transform(df.drop(l_columns, axis=1).values)\n",
    "\n",
    "data.shape"
   ]
  },
  {
   "cell_type": "code",
   "execution_count": null,
   "metadata": {
    "scrolled": true
   },
   "outputs": [],
   "source": [
    "som = NeuralMap(variables=data.shape[1], metric='euclidean')"
   ]
  },
  {
   "cell_type": "code",
   "execution_count": null,
   "metadata": {
    "scrolled": false
   },
   "outputs": [],
   "source": [
    "som.train(data=data)"
   ]
  },
  {
   "cell_type": "code",
   "execution_count": null,
   "metadata": {
    "scrolled": false
   },
   "outputs": [],
   "source": [
    "som.plot_analysis(data, min_cluster_size=3, display_empty_nodes=True)"
   ]
  },
  {
   "cell_type": "code",
   "execution_count": null,
   "metadata": {
    "scrolled": false
   },
   "outputs": [],
   "source": [
    "som.plot_unified_distance_matrix()\n",
    "# NeuralMap(variables=2, metric='euclidean', columns=som.columns, rows=som.rows, weights=som.relative_positions).plot_unified_distance_matrix(size=10, detailed=False, borders=False)"
   ]
  },
  {
   "cell_type": "code",
   "execution_count": null,
   "metadata": {
    "scrolled": false
   },
   "outputs": [],
   "source": [
    "actfreq, q, mean_distance = som.analyse(data)\n",
    "umatrix, distance_matrix = som.get_unified_distance_matrix()\n",
    "labels, probabilities, outlier_socer = som.hdbscan(min_cluster_size=5)\n",
    "\n",
    "_plot.tiles(som.positions, som.hexagonal, umatrix[..., -1], title='distancia')\n",
    "_plot.tiles(som.positions, som.hexagonal, actfreq, title='frecuencia de actvación')\n",
    "_plot.tiles(som.positions, som.hexagonal, q, title='error de cuantización')\n",
    "_plot.tiles(som.positions, som.hexagonal, mean_distance, title='distancia media')\n",
    "_plot.tiles(som.positions, som.hexagonal, probabilities, title = 'probabilidad de prtenencia')\n",
    "_plot.tiles(som.positions, som.hexagonal, outlier_socer, title = 'outiler score')"
   ]
  },
  {
   "cell_type": "code",
   "execution_count": null,
   "metadata": {
    "scrolled": false
   },
   "outputs": [],
   "source": [
    "clusters = 10\n",
    "\n",
    "labels, centers = som.k_means(clusters)\n",
    "_plot.tiles(som.positions, som.hexagonal, labels, norm=False, title='Clustering con K-means. Valor de K = ' + str(clusters), labels=list(range(clusters)))\n",
    "\n",
    "# labels, centers = som.k_medoids(clusters)\n",
    "# _plot.tiles(som.positions, som.hexagonal, labels, norm=False, title='Clustering con K-medoids. Valor de K = ' + str(clusters), labels=list(range(clusters)))\n"
   ]
  },
  {
   "cell_type": "code",
   "execution_count": null,
   "metadata": {
    "scrolled": true
   },
   "outputs": [],
   "source": [
    "som.plot_cluster_weights_vectors(cluster=0)\n",
    "som.plot_weights_vector(node_index=(0, 0))"
   ]
  },
  {
   "cell_type": "code",
   "execution_count": null,
   "metadata": {},
   "outputs": [],
   "source": [
    "# from BootstrapCCpy import BootstrapCCpy\n",
    "# from sklearn.cluster import KMeans\n",
    "# from scipy.cluster.hierarchy import linkage, fcluster, dendrogram\n",
    "\n",
    "# K_CLUSTERS = 15\n",
    "# B_SAMPLINGS = som.columns * som.rows\n",
    "\n",
    "# bcc = BootstrapCCpy(cluster=KMeans().__class__, K=K_CLUSTERS, B=B_SAMPLINGS)\n",
    "# bcc.fit(som.weights.reshape((-1, som.variables)), verbose=True)\n",
    "# bcc.plot_consensus_heatmap()\n",
    "\n",
    "# for clusters in range(2, K_CLUSTERS + 1):\n",
    "#     labels = (fcluster(linkage(bcc.Mk[clusters - 2], 'single'), clusters, criterion='maxclust') - 1).reshape((som.columns, som.rows))\n",
    "# #     dendrogram(linkage(bcc.Mk[clusters - 2], 'single'))\n",
    "#     _plot.tiles(som.positions, som.hexagonal, labels, norm=False, title='BootstrapCC with K = '+ str(clusters), labels=list(range(labels.max() + 1)), intensity=(labels >= 0.) * 1., color_map=plt.cm.get_cmap('hsv', labels.max()), size=4)\n",
    "#     plt.show()\n",
    "\n",
    "# bcc.get_best_k()"
   ]
  }
 ],
 "metadata": {
  "kernelspec": {
   "display_name": "Python 3",
   "language": "python",
   "name": "python3"
  },
  "language_info": {
   "codemirror_mode": {
    "name": "ipython",
    "version": 3
   },
   "file_extension": ".py",
   "mimetype": "text/x-python",
   "name": "python",
   "nbconvert_exporter": "python",
   "pygments_lexer": "ipython3",
   "version": "3.8.2"
  }
 },
 "nbformat": 4,
 "nbformat_minor": 4
}
