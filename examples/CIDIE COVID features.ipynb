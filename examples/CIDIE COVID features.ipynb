{
 "cells": [
  {
   "cell_type": "code",
   "execution_count": null,
   "metadata": {},
   "outputs": [],
   "source": [
    "import json\n",
    "import pandas as pd\n",
    "import numpy as np\n",
    "import matplotlib.pyplot as plt\n",
    "import matplotlib.image as mpimg\n",
    "from sklearn.preprocessing import MinMaxScaler\n",
    "from scipy.spatial.distance import cdist\n",
    "from neural_map import NeuralMap, _plot"
   ]
  },
  {
   "cell_type": "code",
   "execution_count": null,
   "metadata": {},
   "outputs": [],
   "source": [
    "# cargar los conjuntos de datos\n",
    "train_features = np.load('datasets/train_features.npy')\n",
    "train_labels = np.load('datasets/train_labels.npy')\n",
    "test_features = np.load('datasets/test_features.npy')\n",
    "test_labels = np.load('datasets/test_labels.npy')\n",
    "\n",
    "train_features.shape, train_labels.shape, test_features.shape, test_labels.shape"
   ]
  },
  {
   "cell_type": "code",
   "execution_count": null,
   "metadata": {
    "scrolled": true
   },
   "outputs": [],
   "source": [
    "#     '01a4059c-22f7-4f51-8a27-50aff0b3aeb3.jpg': 5931,\n",
    "#     '01cc7c75-4498-43ab-b650-5553d0507f76.jpg': 5936,\n",
    "#     '042bde1a-88c1-4ae5-af0c-1a409e1e09ee.jpg': 5952,\n",
    "#     'lancet-case2.png': 41,\n",
    "#     'streptococcus-pneumoniae-pneumonia-1.jpeg': 10\n",
    "\n",
    "images_indices = {\n",
    "    'auntminnie-a-2020_01_28_23_51_6665_2020_01_28_Vietnam_coronavirus.jpeg': 35,\n",
    "    'nejmoa2001191_f3-PA.jpeg': 46,\n",
    "    'SARS-10.1148rg.242035193-g04mr34g0-Fig8a-day0.jpeg': 0,\n",
    "    'SARS-10.1148rg.242035193-g04mr34g0-Fig8b-day5.jpeg': 1,\n",
    "}\n",
    "\n",
    "for image_name, index in images_indices.items():\n",
    "    img = mpimg.imread('datasets/train_images/' + image_name)\n",
    "    imgplot = plt.imshow(img, cmap='Greys_r')\n",
    "    plt.show()\n",
    "    print(train_features[index])\n",
    "    print('\\n')\n"
   ]
  },
  {
   "cell_type": "code",
   "execution_count": null,
   "metadata": {},
   "outputs": [],
   "source": [
    "# escalar los valores al rango [0, 1]\n",
    "\n",
    "scaler = MinMaxScaler()\n",
    "\n",
    "s_train_features = scaler.fit_transform(train_features)\n",
    "s_test_features = scaler.transform(test_features)\n",
    "\n",
    "s_train_features.max(), s_train_features.min(), s_test_features.max(), s_test_features.min()"
   ]
  },
  {
   "cell_type": "code",
   "execution_count": null,
   "metadata": {},
   "outputs": [],
   "source": [
    "# cargar la instancia de NeuralMap cargada\n",
    "dictionary = {}\n",
    "\n",
    "with open('datasets/features_training_correlation_10.json') as json_file: \n",
    "    dictionary = json.load(json_file)\n",
    "    dictionary['relative_positions'] = np.array(dictionary['relative_positions'])\n",
    "    dictionary['weights'] = np.array(dictionary['weights'])\n",
    "    del dictionary['seed']\n",
    "    \n",
    "nm = NeuralMap(**dictionary)"
   ]
  },
  {
   "cell_type": "code",
   "execution_count": null,
   "metadata": {},
   "outputs": [],
   "source": [
    "nm.plot_unified_distance_matrix(detailed=True, borders=True, size=13)"
   ]
  },
  {
   "cell_type": "code",
   "execution_count": null,
   "metadata": {},
   "outputs": [],
   "source": [
    "nm.plot_analysis(data=s_train_features, attached_values=train_labels, size=13, title='Distribución de las clases de radiografías (conjunto de datos de entrenamiento)')"
   ]
  },
  {
   "cell_type": "code",
   "execution_count": null,
   "metadata": {},
   "outputs": [],
   "source": [
    "nm.plot_analysis(data=s_test_features, attached_values=test_labels, size=13, title='Distribución de las clases de radiografías (conjunto de datos de prueba)')"
   ]
  },
  {
   "cell_type": "code",
   "execution_count": null,
   "metadata": {},
   "outputs": [],
   "source": [
    "# guarda la distancia euclidea (o la que uses) de cada feature de entrenamiento con su nodo ganador.\n",
    "\n",
    "train_quantization_error = np.ones(s_train_features.shape[0]) * np.nan\n",
    "for i in range(s_train_features.shape[0]):\n",
    "    train_quantization_error[i] = nm.generate_activation_map(s_train_features[i]).min()"
   ]
  },
  {
   "cell_type": "code",
   "execution_count": null,
   "metadata": {},
   "outputs": [],
   "source": [
    "# Luego con las imagenes de testing lo que hacemos es:\n",
    "# 1) encontrar el nodo ganador\n",
    "# 2) calcular la distancia entre la imagen(features) de testing contra las imagenes(features) del conjunto de entrenamiento que mapean a ese nodo.\n",
    "# 3) mostramos una imagen y la otra al lado.\n",
    "# Un ejemplo simple es, hacer esos pasos con una imagen de entrenamiento y recuerar la clase de la misma.\n",
    "\n",
    "selected_feature_index = 413\n",
    "\n",
    "if not ('mapped_train_features_indices' in vars() or 'mapped_train_features_indices' in globals()):\n",
    "    mapped_train_features_indices = nm.map_attachments(s_train_features, np.array(range(s_train_features.shape[0])))\n",
    "selected_feature = s_test_features[selected_feature_index]\n",
    "bmu = nm.get_best_matching_unit(selected_feature)\n",
    "train_features_indices = mapped_train_features_indices[bmu]\n",
    "distances = cdist(selected_feature[None], s_train_features[train_features_indices], nm.metric)[0]\n",
    "\n",
    "print(\"\\n\\n\\nSelecetd feature idnex:\\n\\n\", selected_feature_index)\n",
    "print(\"\\n\\n\\nSelecetd feature:\\n\\n\", selected_feature)\n",
    "print(\"\\n\\n\\nSelected feature class:\\n\\n\", test_labels[selected_feature_index])\n",
    "print(\"\\n\\n\\nBest matching unit:\\n\\n\", bmu)\n",
    "print(\"\\n\\n\\nIndices of training features that share the same node:\\n\\n\", mapped_train_features_indices[bmu])\n",
    "print(\"\\n\\n\\nClasses of the training features that shares same node:\\n\\n\", train_labels[train_features_indices])\n",
    "print(\"\\n\\n\\nDistances from selected features to training features:\\n\\n\", distances)"
   ]
  }
 ],
 "metadata": {
  "kernelspec": {
   "display_name": "Python 3",
   "language": "python",
   "name": "python3"
  },
  "language_info": {
   "codemirror_mode": {
    "name": "ipython",
    "version": 3
   },
   "file_extension": ".py",
   "mimetype": "text/x-python",
   "name": "python",
   "nbconvert_exporter": "python",
   "pygments_lexer": "ipython3",
   "version": "3.8.2"
  }
 },
 "nbformat": 4,
 "nbformat_minor": 4
}
