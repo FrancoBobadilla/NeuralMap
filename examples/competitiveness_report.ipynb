{
 "cells": [
  {
   "cell_type": "code",
   "execution_count": null,
   "metadata": {},
   "outputs": [],
   "source": [
    "import sys\n",
    "sys.path.insert(0, '../')"
   ]
  },
  {
   "cell_type": "code",
   "execution_count": null,
   "metadata": {},
   "outputs": [],
   "source": [
    "from neural_map import NeuralMap, _plot\n",
    "import matplotlib.pyplot as plt\n",
    "import pandas as pd\n",
    "from sklearn.preprocessing import MinMaxScaler"
   ]
  },
  {
   "cell_type": "code",
   "execution_count": null,
   "metadata": {},
   "outputs": [],
   "source": [
    "df = pd.read_csv('datasets/indice_de_competitividad.csv')\n",
    "l_columns = ['Country']\n",
    "col = 'Country'"
   ]
  },
  {
   "cell_type": "code",
   "execution_count": null,
   "metadata": {},
   "outputs": [],
   "source": [
    "scaler = MinMaxScaler()\n",
    "data = scaler.fit_transform(df.drop(l_columns, axis=1).values)\n",
    "\n",
    "data.shape"
   ]
  },
  {
   "cell_type": "code",
   "execution_count": null,
   "metadata": {},
   "outputs": [],
   "source": [
    "som = NeuralMap(z=data.shape[1], x=12, y=12, metric='correlation')"
   ]
  },
  {
   "cell_type": "code",
   "execution_count": null,
   "metadata": {},
   "outputs": [],
   "source": [
    "som.train(data=data, radius_decay_function='exponential', verbosity=True, eval_data=data, num_epochs=30)"
   ]
  },
  {
   "cell_type": "code",
   "execution_count": null,
   "metadata": {},
   "outputs": [],
   "source": [
    "from numpy import array\n",
    "\n",
    "types_to_display_groups = [[None], ['All']]\n",
    "\n",
    "global_competitiveness = {\"Singapore\":\t84.8,  \"United States\":\t83.7,  \"Hong Kong SAR\":\t83.1,  \"Netherlands\":\t82.4,  \"Switzerland\":\t82.3,  \"Japan\":\t82.3,  \"Germany\":\t81.8,  \"Sweden\":\t81.2,  \"United Kingdom\":\t81.2,  \"Denmark\":\t81.2,  \"Finland\":\t80.2,  \"Taiwan, China\":\t80.2,  \"Korea, Rep.\":\t79.6,  \"Canada\":\t79.6,  \"France\":\t78.8,  \"Australia\":\t78.7,  \"Norway\":\t78.1,  \"Luxembourg\":\t77.0,  \"New Zealand\":\t76.7,  \"Israel\":\t76.7,  \"Austria\":\t76.6,  \"Belgium\":\t76.4,  \"Spain\":\t75.3,  \"Ireland\":\t75.1,  \"United Arab Emirates\":\t75.0,  \"Iceland\":\t74.7,  \"Malaysia\":\t74.6,  \"China\":\t73.9,  \"Qatar\":\t72.9,  \"Italy\":\t71.5,  \"Estonia\":\t70.9,  \"Czech Republic\":\t70.9,  \"Chile\":\t70.5,  \"Portugal\":\t70.4,  \"Slovenia\":\t70.2,  \"Saudi Arabia\":\t70.0,  \"Poland\":\t68.9,  \"Malta\":\t68.5,  \"Lithuania\":\t68.4,  \"Thailand\":\t68.1,  \"Latvia\":\t67.0,  \"Slovak Republic\":\t66.8,  \"Russian Federation\":\t66.7,  \"Cyprus\":\t66.4,  \"Bahrain\":\t65.4,  \"Kuwait\":\t65.1,  \"Hungary\":\t65.1,  \"Mexico\":\t64.9,  \"Bulgaria\":\t64.9,  \"Indonesia\":\t64.6,  \"Romania\":\t64.4,  \"Mauritius\":\t64.3,  \"Oman\":\t63.6,  \"Uruguay\":\t63.5,  \"Kazakhstan\":\t62.9,  \"Brunei Darussalam\":\t62.8,  \"Colombia\":\t62.7,  \"Azerbaijan\":\t62.7,  \"Greece\":\t62.6,  \"South Africa\":\t62.4,  \"Turkey\":\t62.1,  \"Costa Rica\":\t62.0,  \"Croatia\":\t61.9,  \"Philippines\":\t61.9,  \"Peru\":\t61.7,  \"Panama\":\t61.6,  \"Viet Nam\":\t61.5,  \"India\":\t61.4,  \"Armenia\":\t61.3,  \"Jordan\":\t60.9,  \"Brazil\":\t60.9,  \"Serbia\":\t60.9,  \"Montenegro\":\t60.9,  \"Georgia\":\t60.9,  \"Morocco\":\t60.0,  \"Seychelles\":\t59.6,  \"Barbados\":\t58.9,  \"Dominican Republic\":\t58.3,  \"Trinidad and Tobago\":\t58.3,  \"Jamaica\":\t58.3,  \"Albania\":\t57.6,  \"Macedonia, FYR\":\t57.3,  \"Argentina\":\t57.2,  \"Sri Lanka\":\t57.1,  \"Ukraine\":\t57.0,  \"Moldova\":\t56.7,  \"Tunisia\":\t56.4,   \"Lebanon\":\t56.3,  \"Algeria\":\t56.3,  \"Ecuador\":\t55.7,  \"Botswana\":\t55.5,  \"Bosnia and Herzegovina\":\t54.7,  \"Egypt\":\t54.5,   \"Namibia\":\t54.5,  \"Kenya\":\t54.1,  \"Kyrgyz Republic\":\t54.0,  \"Paraguay\":\t53.6,  \"Guatemala\":\t53.5,  \"Iran, Islamic Rep.\":\t53.0,  \"Rwanda\":\t52.8,  \"Honduras\":\t52.7,  \"Mongolia\":\t52.6,  \"El Salvador\":\t52.6,  \"Tajikistan\":\t52.4,  \"Bangladesh\":\t52.1,  \"Cambodia\":\t52.1,  \"Bolivia\":\t51.8,  \"Nepal\":\t51.6,  \"Nicaragua\":\t51.5,  \"Pakistan\":\t51.4,  \"Ghana\":\t51.2,  \"Cape Verde\":\t50.8,  \"Lao PDR\":\t50.1,  \"Senegal\":\t49.7,  \"Uganda\":\t48.9,  \"Nigeria\":\t48.3,  \"Tanzania\":\t48.2,  \"Côte d'Ivoire\":\t48.1,  \"Gabon\":\t47.5,  \"Zambia\":\t46.5,  \"Eswatini\":\t46.4,  \"Guinea\":\t46.1,  \"Cameroon\":\t46.0,  \"Gambia, The\":\t45.9,  \"Benin\":\t45.8,  \"Ethiopia\":\t44.4,  \"Zimbabwe\":\t44.2,  \"Malawi\":\t43.7,  \"Mali\":\t43.6,  \"Burkina Faso\":\t43.4,  \"Lesotho\":\t42.9,  \"Madagascar\":\t42.9,  \"Mauritania\":\t40.9,  \"Burundi\":\t40.3,  \"Angola\":\t38.1,  \"Mozambique\":\t38.1,  \"Haiti\":\t36.3,  \"Congo, Democratic Rep.\":\t36.1,  \"Chad\":\t35.1}\n",
    "competitiveness_index = array([global_competitiveness[c] for c in df[col]])\n",
    "persian_gulf_countries = ['United Arab Emirates', 'Bahrain', 'Iran, Islamic Rep.', 'Kuwait', 'Oman', 'Qatar', 'Saudi Arabia']\n",
    "g_20 = ['Argentina', 'Australia', 'Brazil', 'Canada', 'China', 'Germany', 'France', 'United Kingdom', 'Italy', 'Japan', 'Korea, Rep.', 'Mexico', 'Russian Federation', 'Saudi Arabia', 'Turkey', 'United States', 'South Africa', 'Indonesia', 'India']                 \n",
    "IMF_advanced_economies = ['Austria','Belgium','Czech Republic','Denmark','Estonia','Finland','France','Germany','Greece','Iceland','Ireland','Italy','Latvia','Lithuania','Luxembourg','Malta','Netherlands','Norway','Portugal','Slovak Republic','Slovenia','Spain','Sweden','Switzerland','United Kingdom','Cyprus','Hong Kong SAR','Israel','Japan','Singapore','Korea, Rep.','Taiwan, China','Canada','United States','Australia','New Zealand']\n",
    "IMF_HIPC = ['Afghanistan','Benin','Bolivia','Burkina Faso','Burundi','Cameroon','Central African Republic','Chad','Republic of the Congo','Congo, Democratic Rep.','Comoros',\"Côte d'Ivoire\",'Ethiopia','Gambia, The','Ghana','Guinea','Guinea-Bissau','Guyana','Haiti','Honduras','Liberia','Madagascar','Mali','Mauritania','Malawi','Mozambique','Nicaragua','Niger','Rwanda','São Tomé and Príncipe','Senegal','Sierra Leone','Togo','Uganda','Zambia']\n",
    "latin_america = ['Argentina','Bolivia','Brazil','Barbados','Chile','Colombia','Costa Rica','Dominican Republic','Ecuador','Guatemala','Honduras','Haiti','Jamaica','Mexico','Nicaragua','Panama','Peru','Paraguay','El Salvador','Trinidad and Tobago','Uruguay']\n",
    "ex_socialist=['Albania', 'Mongolia', 'Armenia','Azerbaijan','Bulgaria','Czech Republic','Estonia','Georgia','Hungary','Kazakhstan','Kyrgyz Republic','Lithuania','Latvia','Moldova','Poland','Romania','Russian Federation','Slovak Republic','Tajikistan','Ukraine','Bosnia and Herzegovina','Croatia','Macedonia, FYR','Montenegro','Serbia','Slovenia']\n",
    "south_asia=['Afghanistan', 'Bangladesh', 'Bhutan', 'India', 'Maldives', 'Nepal', 'Pakistan', 'Sri Lanka']\n",
    "sub_saharan_africa = ['Angola', 'Benin', 'Botswana', 'Burkina Faso', 'Burundi', 'Cameroon', 'Central African Republic', 'Chad', 'Republic of the Congo', 'Congo, Democratic Rep.', \"Côte d'Ivoire\", 'Eritrea', 'Ethiopia', 'Gabon', 'Gambia, The', 'Ghana', 'Guinea', 'Guinea-Bissau', 'Kenya', 'Lesotho', 'Liberia', 'Madagascar', 'Malawi', 'Mali', 'Mauritania', 'Mozambique', 'Namibia', 'Niger', 'Nigeria', 'Rwanda', 'Senegal', 'Sierra Leone', 'Somalia', 'South Africa', 'Tanzania', 'Togo', 'Uganda', 'Eswatini', 'Zambia', 'Zimbabwe']\n",
    "north_africa = ['Morocco', 'Tunisia', 'Algeria', 'Egypt']\n",
    "types_to_display_groups = [[IMF_advanced_economies, persian_gulf_countries, g_20, latin_america, ex_socialist, south_asia, sub_saharan_africa, north_africa], ['IMF_advanced_economies', 'g_20', 'persian_gulf_countries', 'latin_america', 'ex_socialist', 'south_asia', 'sub_saharan_africa', 'north_africa']]\n"
   ]
  },
  {
   "cell_type": "code",
   "execution_count": null,
   "metadata": {},
   "outputs": [],
   "source": [
    "som.plot_analysis(data, min_cluster_size=3, attached_values=competitiveness_index)"
   ]
  },
  {
   "cell_type": "code",
   "execution_count": null,
   "metadata": {},
   "outputs": [],
   "source": [
    "from numpy import zeros, ones, nan\n",
    "\n",
    "zeros((3, 2)) * nan"
   ]
  },
  {
   "cell_type": "code",
   "execution_count": null,
   "metadata": {
    "scrolled": false
   },
   "outputs": [],
   "source": [
    "for i, types_to_display in enumerate(types_to_display_groups[0]):\n",
    "  som.plot_analysis(data, show_empty_nodes=False, min_cluster_size=3, show_quantization_error=False, labels=df[col].values, types_to_display=types_to_display)\n",
    "\n",
    "batch = 6\n",
    "if batch:\n",
    "  labels = df[col].values\n",
    "  for i in range(labels.shape[0] // batch):\n",
    "    som.plot_analysis(data, min_cluster_size=3, show_empty_nodes=False, show_quantization_error=False, labels=labels, types_to_display=labels[i * batch : (i + 1) * batch])\n",
    "  som.plot_analysis(data, min_cluster_size=3, show_empty_nodes=False, show_quantization_error=False, labels=labels, types_to_display=labels[-(labels.shape[0] % batch):])"
   ]
  },
  {
   "cell_type": "code",
   "execution_count": null,
   "metadata": {},
   "outputs": [],
   "source": [
    "som.plot_u_matrix(detailed=True, borders=True)"
   ]
  },
  {
   "cell_type": "code",
   "execution_count": null,
   "metadata": {},
   "outputs": [],
   "source": [
    "actfreq, q, mean_distance = som.analyse(data)\n",
    "umatrix, distance_matrix = som.unified_distance_matrix()\n",
    "labels, probabilities, outlier_socer = som.hdbscan(min_cluster_size=3)\n",
    "\n",
    "_plot.tiles(som.cart_coord, som.hexagonal, umatrix[..., -1], title='distancia')\n",
    "_plot.tiles(som.cart_coord, som.hexagonal, actfreq, title='frecuencia de actvación')\n",
    "_plot.tiles(som.cart_coord, som.hexagonal, q, title='error de cuantización')\n",
    "_plot.tiles(som.cart_coord, som.hexagonal, mean_distance, title='distancia media')\n",
    "_plot.tiles(som.cart_coord, som.hexagonal, probabilities, title = 'probabilidad de prtenencia')\n",
    "_plot.tiles(som.cart_coord, som.hexagonal, outlier_socer, title = 'outiler score')"
   ]
  },
  {
   "cell_type": "code",
   "execution_count": null,
   "metadata": {},
   "outputs": [],
   "source": [
    "clusters = 10\n",
    "\n",
    "labels, centers = som.k_means(clusters)\n",
    "_plot.tiles(som.cart_coord, som.hexagonal, labels, norm=False, title='Clustering con K-means. Valor de K = ' + str(clusters), labels=list(range(clusters)), cmap=plt.cm.get_cmap('hsv', clusters + 1))\n",
    "\n",
    "labels, centers = som.k_medoids(clusters)\n",
    "_plot.tiles(som.cart_coord, som.hexagonal, labels, norm=False, title='Clustering con K-medoids. Valor de K = ' + str(clusters), labels=list(range(clusters)), cmap=plt.cm.get_cmap('hsv', clusters + 1))\n"
   ]
  },
  {
   "cell_type": "code",
   "execution_count": null,
   "metadata": {},
   "outputs": [],
   "source": [
    "som.plot_set_weight_vectors(cluster=0)\n",
    "som.plot_node_weight_vector(node_index=(0, 0))"
   ]
  },
  {
   "cell_type": "code",
   "execution_count": null,
   "metadata": {},
   "outputs": [],
   "source": [
    "from numpy import empty\n",
    "\n",
    "x = 4\n",
    "y = 6\n",
    "\n",
    "type(empty((x, y)).tolist()), type([[0.0] * y] * x)"
   ]
  }
 ],
 "metadata": {
  "kernelspec": {
   "display_name": "Python 3",
   "language": "python",
   "name": "python3"
  },
  "language_info": {
   "codemirror_mode": {
    "name": "ipython",
    "version": 3
   },
   "file_extension": ".py",
   "mimetype": "text/x-python",
   "name": "python",
   "nbconvert_exporter": "python",
   "pygments_lexer": "ipython3",
   "version": "3.8.2"
  }
 },
 "nbformat": 4,
 "nbformat_minor": 4
}
