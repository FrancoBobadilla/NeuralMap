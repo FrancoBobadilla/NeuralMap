{
 "cells": [
  {
   "cell_type": "code",
   "execution_count": null,
   "metadata": {},
   "outputs": [],
   "source": [
    "import sys\n",
    "sys.path.insert(0, '../')"
   ]
  },
  {
   "cell_type": "code",
   "execution_count": null,
   "metadata": {},
   "outputs": [],
   "source": [
    "from neural_map import NeuralMap, _plot\n",
    "import matplotlib.pyplot as plt\n",
    "import pandas as pd\n",
    "from sklearn.preprocessing import MinMaxScaler"
   ]
  },
  {
   "cell_type": "code",
   "execution_count": null,
   "metadata": {},
   "outputs": [],
   "source": [
    "df = pd.read_csv('datasets/GolubDataRaw.csv')\n",
    "l_columns = 'geneName'\n",
    "col = 'geneName'"
   ]
  },
  {
   "cell_type": "code",
   "execution_count": null,
   "metadata": {},
   "outputs": [],
   "source": [
    "scaler = MinMaxScaler()\n",
    "data = scaler.fit_transform(df.drop(l_columns, axis=1).values)\n",
    "\n",
    "data.shape"
   ]
  },
  {
   "cell_type": "code",
   "execution_count": null,
   "metadata": {},
   "outputs": [],
   "source": [
    "som = NeuralMap(z=data.shape[1], x=10, y=10, metric='correlation')"
   ]
  },
  {
   "cell_type": "code",
   "execution_count": null,
   "metadata": {},
   "outputs": [],
   "source": [
    "som.train(data=data, radius_decay_function='exponential', verbosity=True, eval_data=data, num_epochs=30)"
   ]
  },
  {
   "cell_type": "code",
   "execution_count": null,
   "metadata": {},
   "outputs": [],
   "source": [
    "som.plot_analysis(data)"
   ]
  },
  {
   "cell_type": "code",
   "execution_count": null,
   "metadata": {},
   "outputs": [],
   "source": [
    "som.plot_u_matrix(detailed=True, borders=True)"
   ]
  },
  {
   "cell_type": "code",
   "execution_count": null,
   "metadata": {},
   "outputs": [],
   "source": [
    "actfreq, q, mean_distance = som.analyse(data)\n",
    "umatrix, distance_matrix = som.unified_distance_matrix()\n",
    "labels, probabilities, outlier_socer = som.hdbscan(min_cluster_size=3)\n",
    "\n",
    "_plot.tiles(som.cart_coord, som.hexagonal, umatrix[..., -1], title='distancia')\n",
    "_plot.tiles(som.cart_coord, som.hexagonal, actfreq, title='frecuencia de actvación')\n",
    "_plot.tiles(som.cart_coord, som.hexagonal, q, title='error de cuantización')\n",
    "_plot.tiles(som.cart_coord, som.hexagonal, mean_distance, title='distancia media')\n",
    "_plot.tiles(som.cart_coord, som.hexagonal, probabilities, title = 'probabilidad de prtenencia')\n",
    "_plot.tiles(som.cart_coord, som.hexagonal, outlier_socer, title = 'outiler score')"
   ]
  },
  {
   "cell_type": "code",
   "execution_count": null,
   "metadata": {},
   "outputs": [],
   "source": [
    "clusters = 10\n",
    "\n",
    "labels, centers = som.k_means(clusters)\n",
    "_plot.tiles(som.cart_coord, som.hexagonal, labels, norm=False, title='Clustering con K-means. Valor de K = ' + str(clusters), labels=list(range(clusters)), cmap=plt.cm.get_cmap('hsv', clusters + 1))\n",
    "\n",
    "labels, centers = som.k_medoids(clusters)\n",
    "_plot.tiles(som.cart_coord, som.hexagonal, labels, norm=False, title='Clustering con K-medoids. Valor de K = ' + str(clusters), labels=list(range(clusters)), cmap=plt.cm.get_cmap('hsv', clusters + 1))\n"
   ]
  },
  {
   "cell_type": "code",
   "execution_count": null,
   "metadata": {},
   "outputs": [],
   "source": [
    "som.plot_set_weight_vectors(cluster=0)\n",
    "som.plot_node_weight_vector(node_index=(0, 0))"
   ]
  }
 ],
 "metadata": {
  "kernelspec": {
   "display_name": "Python 3",
   "language": "python",
   "name": "python3"
  },
  "language_info": {
   "codemirror_mode": {
    "name": "ipython",
    "version": 3
   },
   "file_extension": ".py",
   "mimetype": "text/x-python",
   "name": "python",
   "nbconvert_exporter": "python",
   "pygments_lexer": "ipython3",
   "version": "3.8.2"
  }
 },
 "nbformat": 4,
 "nbformat_minor": 4
}
