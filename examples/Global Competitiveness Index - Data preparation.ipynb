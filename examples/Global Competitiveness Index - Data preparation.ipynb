{
 "cells": [
  {
   "cell_type": "code",
   "execution_count": null,
   "metadata": {},
   "outputs": [],
   "source": [
    "import pandas as pd\n",
    "import numpy as np\n",
    "import matplotlib.pyplot as plt"
   ]
  },
  {
   "cell_type": "code",
   "execution_count": null,
   "metadata": {},
   "outputs": [],
   "source": [
    "# cargar el conjunto de datos original\n",
    "dataset_2017_name = 'datasets/GCI_Dataset_2007-2017.xlsx'\n",
    "dataset_2017 = pd.read_excel(dataset_2017_name, index = False)\n",
    "\n",
    "selected_year = 2017\n",
    "init_year = 2017\n",
    "final_year = 2018"
   ]
  },
  {
   "cell_type": "code",
   "execution_count": null,
   "metadata": {},
   "outputs": [],
   "source": [
    "# filtrar para que los Attribute sean solamente Value\n",
    "dataset_2017_only_values = dataset_2017[dataset_2017['Attribute'] == 'Value']\n",
    "for year in dataset_2017_only_values['Edition'].unique():\n",
    "    # separarlo en un conjunto por cada año\n",
    "    tmp = dataset_2017_only_values[dataset_2017_only_values['Edition'] == year]\n",
    "    tmp['Edition'] = tmp['Edition'].replace(year, year.split('-')[0])\n",
    "    tmp.to_csv('datasets/GCI_' + year.split('-')[0] + '.csv', index = False)\n",
    "    # se filtran las series que no son \"bases\"\n",
    "    tmp = pd.read_csv('datasets/GCI_' + year.split('-')[0] + '.csv')\n",
    "    tmp = tmp[tmp['Series code'].str.match('[0-9]')]\n",
    "    tmp.to_csv('datasets/GCI_' + year.split('-')[0] + '.csv', index = False)\n"
   ]
  },
  {
   "cell_type": "code",
   "execution_count": null,
   "metadata": {},
   "outputs": [],
   "source": [
    "# # reune el conjunto de atributos para los que Argentina no tiene ningún NaN en ningún año\n",
    "# attributes = []\n",
    "# for year in range(init_year, final_year):\n",
    "#     tmp = pd.read_csv('datasets/GCI_' + str(year) + '.csv')\n",
    "#     if len(attributes):\n",
    "#         attributes = list(set(attributes) & set(tmp[~tmp['Argentina'].isna()]['Series Global ID'].to_list()))\n",
    "    \n",
    "#     else:\n",
    "#         attributes = tmp[~tmp['Argentina'].isna()]['Series Global ID'].to_list()\n",
    "\n",
    "# len(attributes)"
   ]
  },
  {
   "cell_type": "code",
   "execution_count": null,
   "metadata": {},
   "outputs": [],
   "source": [
    "# # filtra todos los conjuntos de datos para que tengan los atributos para los que Argentina no tiene ningún NaN en ningún año\n",
    "# for year in range(init_year, final_year):\n",
    "#     tmp = pd.read_csv('datasets/GCI_' + str(year) + '.csv')\n",
    "#     tmp = tmp[tmp['Series Global ID'].isin(attributes)]\n",
    "#     tmp.to_csv('datasets/GCI_' + str(year) + '.csv', index = False)\n"
   ]
  },
  {
   "cell_type": "code",
   "execution_count": null,
   "metadata": {},
   "outputs": [],
   "source": [
    "# para el año 2017, reune el conjunto de paises y atributos que al extraerlos \n",
    "# for selected_year in range(2007, 2018):\n",
    "excluded_countries = []\n",
    "excluded_attributes = []\n",
    "tmp = pd.read_csv('datasets/GCI_' + str(selected_year) + '.csv')\n",
    "tmp = tmp[tmp.columns.difference(['Dataset', 'Edition', 'Series Global ID', 'Series code', 'Series', 'Series unindented', 'Attribute'])].apply(pd.to_numeric, errors='coerce').isna()\n",
    "while(tmp.sum(axis=0).max()):\n",
    "    if (tmp.sum(axis=0).max() > tmp.sum(axis=1).max()):\n",
    "        countries_nans = tmp.sum(axis=0)\n",
    "        new_excluded_countries = countries_nans[countries_nans == countries_nans.max()].index.to_list()[0]\n",
    "        excluded_countries.append(new_excluded_countries)\n",
    "        tmp = tmp.drop(new_excluded_countries, axis=1)\n",
    "\n",
    "    else:\n",
    "        attributes_nans = tmp.sum(axis=1)\n",
    "        new_excluded_attributes = attributes_nans[attributes_nans == attributes_nans.max()].index.to_list()[0]\n",
    "        excluded_attributes.append(new_excluded_attributes)\n",
    "        tmp = tmp.drop(new_excluded_attributes, axis=0)\n",
    "\n",
    "excluded_countries = list(set(excluded_countries))\n",
    "excluded_attributes = list(set(excluded_attributes))\n",
    "\n",
    "df = pd.read_csv('datasets/GCI_' + str(selected_year) + '.csv')\n",
    "df = df.drop(excluded_attributes, axis=0)\n",
    "df = df.drop(excluded_countries, axis=1)\n",
    "\n",
    "print(excluded_attributes, excluded_countries, tmp.shape[0], tmp.shape[1], tmp.shape[0] * tmp.shape[1])\n",
    "print('---')"
   ]
  },
  {
   "cell_type": "code",
   "execution_count": null,
   "metadata": {},
   "outputs": [],
   "source": [
    "# para todos los años, saca los atributos descubiertos en el paso anterior\n",
    "for year in range(init_year, final_year):\n",
    "    tmp = pd.read_csv('datasets/GCI_' + str(year) + '.csv')\n",
    "    tmp = tmp.drop(excluded_attributes, axis=0)\n",
    "    tmp.to_csv('datasets/GCI_' + str(year) + '.csv', index = False)\n",
    "    "
   ]
  },
  {
   "cell_type": "code",
   "execution_count": null,
   "metadata": {},
   "outputs": [],
   "source": [
    "# para todos los años, saca los países que tienen NaN\n",
    "for year in range(init_year, final_year):\n",
    "    tmp = pd.read_csv('datasets/GCI_' + str(year) + '.csv')\n",
    "    new_columns = ['country'] + tmp['Series unindented'].to_list()\n",
    "    tmp = tmp.T.reset_index()\n",
    "    tmp.columns = new_columns\n",
    "    tmp = tmp[~tmp['country'].isin(['Dataset', 'Edition', 'Series Global ID', 'Series code', 'Series', 'Series unindented', 'Attribute'])]\n",
    "    tmp.to_csv('datasets/GCI_' + str(year) + '.csv', index = False)\n"
   ]
  },
  {
   "cell_type": "code",
   "execution_count": null,
   "metadata": {},
   "outputs": [],
   "source": [
    "# trasponer el conjunto de datos, reindex, y retirar las filas que no son paises\n",
    "for year in range(init_year, final_year):\n",
    "    tmp = pd.read_csv('datasets/GCI_' + str(year) + '.csv')\n",
    "    tmp = tmp[~(tmp.isna().sum(axis=1) > 0)]\n",
    "    tmp.to_csv('datasets/GCI_' + str(year) + '.csv', index = False)\n"
   ]
  },
  {
   "cell_type": "code",
   "execution_count": null,
   "metadata": {},
   "outputs": [],
   "source": [
    "# replacement = {\n",
    "#     'Wastefulness of government spending, 1-7 (best)': 'Efficiency of government spending, 1-7 (best)',\n",
    "#     'Unnamed: 2': 'Intellectual property protection, 1-7 (best)'\n",
    "# }\n",
    "\n",
    "# for year in range(init_year, final_year):\n",
    "#     tmp = pd.read_csv('datasets/GCI_' + str(year) + '.csv')\n",
    "#     tmp.rename(columns=replacement, inplace=True)\n",
    "#     del tmp['Fixed broadband Internet subscriptions/100 pop.*']\n",
    "#     tmp.to_csv('datasets/GCI_' + str(year) + '.csv', index = False)\n"
   ]
  },
  {
   "cell_type": "code",
   "execution_count": null,
   "metadata": {},
   "outputs": [],
   "source": [
    "# # los guarda como Excel e imprime las dimensiones y la cantidad de NaNs\n",
    "# for year in range(init_year, final_year):\n",
    "#     tmp = pd.read_csv('datasets/GCI_' + str(year) + '.csv')\n",
    "#     tmp = ~tmp.applymap(np.isreal)\n",
    "#     tmp['country'] = False\n",
    "#     print(tmp.shape)\n",
    "#     print(tmp.sum().sum())\n",
    "#     tmp.to_excel('datasets/GCI_' + str(year) + '.xlsx', index=False)\n",
    "    "
   ]
  },
  {
   "cell_type": "code",
   "execution_count": null,
   "metadata": {},
   "outputs": [],
   "source": [
    "# dataset_2019_name = 'datasets/WEF_GCI_4.0_2019_Dataset.xlsx'\n",
    "# dataset_2019 = pd.read_excel(dataset_2019_name, index = False)\n",
    "\n",
    "# tmp = dataset_2019[dataset_2019['Attribute'] == 'VALUE']\n",
    "# tmp = tmp[tmp['Edition'] == '2017 backcast']\n",
    "# tmp['ARG'].apply(pd.to_numeric, errors='coerce').to_list()\n",
    "\n",
    "# pd.read_csv('datasets/GCI_2017.csv')['Argentina'].to_list()"
   ]
  }
 ],
 "metadata": {
  "kernelspec": {
   "display_name": "Python 3",
   "language": "python",
   "name": "python3"
  },
  "language_info": {
   "codemirror_mode": {
    "name": "ipython",
    "version": 3
   },
   "file_extension": ".py",
   "mimetype": "text/x-python",
   "name": "python",
   "nbconvert_exporter": "python",
   "pygments_lexer": "ipython3",
   "version": "3.8.2"
  }
 },
 "nbformat": 4,
 "nbformat_minor": 4
}
