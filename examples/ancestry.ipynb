{
 "cells": [
  {
   "cell_type": "code",
   "execution_count": null,
   "metadata": {},
   "outputs": [],
   "source": [
    "import sys\n",
    "sys.path.insert(0, '../')"
   ]
  },
  {
   "cell_type": "code",
   "execution_count": null,
   "metadata": {},
   "outputs": [],
   "source": [
    "from neural_map import NeuralMap, _plot\n",
    "import matplotlib.pyplot as plt\n",
    "import pandas as pd\n",
    "from sklearn.preprocessing import MinMaxScaler"
   ]
  },
  {
   "cell_type": "code",
   "execution_count": null,
   "metadata": {},
   "outputs": [],
   "source": [
    "df = pd.read_csv(\"datasets/ANCESTRY_LACRN.tsv\", sep=\"\\t\")\n",
    "l_columns = ['IndID', 'SentrixID', 'Sex', 'Source', 'Region', 'Population', 'Ancestry']\n",
    "col = 'Ancestry'\n",
    "data = df.drop(columns=l_columns).values\n",
    "data.shape"
   ]
  },
  {
   "cell_type": "code",
   "execution_count": null,
   "metadata": {},
   "outputs": [],
   "source": [
    "som = NeuralMap(z=data.shape[1], x=6, y=6, metric='correlation')"
   ]
  },
  {
   "cell_type": "code",
   "execution_count": null,
   "metadata": {},
   "outputs": [],
   "source": [
    "som.train(data=data, verbose=True, eval_data=data, n_epochs=30) # , radius_decay_function='exponential'"
   ]
  },
  {
   "cell_type": "code",
   "execution_count": null,
   "metadata": {},
   "outputs": [],
   "source": [
    "som.plot_analysis(data, min_cluster_size=3, display_empty_nodes=True)"
   ]
  },
  {
   "cell_type": "code",
   "execution_count": null,
   "metadata": {},
   "outputs": [],
   "source": [
    "labels = df[col].values\n",
    "types = df[col].unique()\n",
    "\n",
    "for i in range(3):\n",
    "    som.plot_analysis(data, min_cluster_size=3, display_quantization_error=False, display_empty_nodes=False, labels=labels, labels_to_display=types[i * 3 : (i + 1) * 3])"
   ]
  },
  {
   "cell_type": "code",
   "execution_count": null,
   "metadata": {
    "scrolled": false
   },
   "outputs": [],
   "source": [
    "som.plot_weights(headers=df.drop(columns=l_columns).columns, size=5)"
   ]
  },
  {
   "cell_type": "code",
   "execution_count": null,
   "metadata": {
    "scrolled": false
   },
   "outputs": [],
   "source": [
    "for i in range(som.z):\n",
    "    som.plot_analysis(data, min_cluster_size=3, display_quantization_error=False, display_empty_nodes=False, attached_values=data[:, i], size=5)"
   ]
  },
  {
   "cell_type": "code",
   "execution_count": null,
   "metadata": {},
   "outputs": [],
   "source": [
    "som.plot_unified_distance_matrix(detailed=True, borders=True)"
   ]
  },
  {
   "cell_type": "code",
   "execution_count": null,
   "metadata": {},
   "outputs": [],
   "source": [
    "clusters = 2\n",
    "\n",
    "labels, centers = som.k_means(clusters)\n",
    "_plot.tiles(som.positions, som.hexagonal, labels, norm=False, title='Clustering con K-means. Valor de K = ' + str(clusters), labels=list(range(clusters)))\n",
    "\n",
    "labels, centers = som.k_medoids(clusters)\n",
    "_plot.tiles(som.positions, som.hexagonal, labels, norm=False, title='Clustering con K-medoids. Valor de K = ' + str(clusters), labels=list(range(clusters)))"
   ]
  },
  {
   "cell_type": "code",
   "execution_count": null,
   "metadata": {},
   "outputs": [],
   "source": [
    "som.plot_cluster_weights_vectors(cluster=0)\n",
    "som.plot_cluster_weights_vectors(cluster=1)"
   ]
  },
  {
   "cell_type": "code",
   "execution_count": null,
   "metadata": {},
   "outputs": [],
   "source": [
    "from BootstrapCCpy import BootstrapCCpy\n",
    "from sklearn.cluster import KMeans"
   ]
  },
  {
   "cell_type": "code",
   "execution_count": null,
   "metadata": {
    "scrolled": false
   },
   "outputs": [],
   "source": [
    "K_CLUSTERS = 5\n",
    "B_SAMPLINGS = 36\n",
    "\n",
    "bcc = BootstrapCCpy(cluster=KMeans().__class__, K=K_CLUSTERS, B=B_SAMPLINGS)\n",
    "bcc.fit(som.weights.reshape((-1, som.z)), verbose=True)\n",
    "bcc.get_best_k()\n",
    "bcc.plot_consensus_distribution()\n",
    "bcc.plot_consensus_heatmap()"
   ]
  }
 ],
 "metadata": {
  "kernelspec": {
   "display_name": "Python 3",
   "language": "python",
   "name": "python3"
  },
  "language_info": {
   "codemirror_mode": {
    "name": "ipython",
    "version": 3
   },
   "file_extension": ".py",
   "mimetype": "text/x-python",
   "name": "python",
   "nbconvert_exporter": "python",
   "pygments_lexer": "ipython3",
   "version": "3.8.2"
  }
 },
 "nbformat": 4,
 "nbformat_minor": 1
}
