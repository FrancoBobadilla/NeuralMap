{
 "cells": [
  {
   "cell_type": "code",
   "execution_count": null,
   "metadata": {},
   "outputs": [],
   "source": [
    "from neural_map import NeuralMap\n",
    "\n",
    "# https://github.com/DiegoVicen/ntnu-som/blob/master/src/helper.py\n",
    "# http://www.math.uwaterloo.ca/tsp/world/countries.html"
   ]
  },
  {
   "cell_type": "code",
   "execution_count": null,
   "metadata": {},
   "outputs": [],
   "source": [
    "import pandas as pd\n",
    "\n",
    "# towns = pd.read_csv('datasets/ar9152.tsp', delimiter=' ').values[:, [2, 1]]\n",
    "# optimal_route_distance = 837377\n",
    "\n",
    "towns = pd.read_csv('http://www.math.uwaterloo.ca/tsp/world/uy734.tsp', delimiter=' ', skiprows=lambda x: (x <= 6 or x >= 741)).values[:, [2, 1]]\n",
    "optimal_route_distance = 79114"
   ]
  },
  {
   "cell_type": "code",
   "execution_count": null,
   "metadata": {},
   "outputs": [],
   "source": [
    "import matplotlib.pyplot as plt\n",
    "\n",
    "def euclidean_distance_2d(X, Y):\n",
    "    return ((X[0] - Y[0]) ** 2 + (X[1] - Y[1]) ** 2) ** (1/2)\n",
    "\n",
    "def tsp(nm_instance, points, optimal_route_distance):\n",
    "    # find nearest neuron for each point\n",
    "    city_neurons = {}\n",
    "    for city_idx, city in enumerate(points):\n",
    "        idx = nm_instance.get_best_matching_unit(city)[1]\n",
    "        if idx not in city_neurons:\n",
    "            city_neurons[idx] = [city]\n",
    "        else:\n",
    "            print(\"hola\")\n",
    "            city_neurons[idx].append(city)\n",
    "\n",
    "    # order cities according to neuron order\n",
    "    tsp_order = []\n",
    "    for neuron_idx in range(nm_instance.rows):\n",
    "        if neuron_idx in city_neurons:\n",
    "            tsp_order += city_neurons[neuron_idx]\n",
    "\n",
    "    # calculate tsp distance for tsp_order\n",
    "    tsp_distance = euclidean_distance_2d(tsp_order[0], tsp_order[-1])\n",
    "    for idx in range(len(tsp_order)-1):\n",
    "        tsp_distance += euclidean_distance_2d(tsp_order[idx], tsp_order[idx + 1])\n",
    "    \n",
    "    # print total distance, optimal distance, and their relation\n",
    "    response = \"Travelling Salesman Problem\"\n",
    "    response += \"\\n  total distance: \" + str(int(tsp_distance))\n",
    "    response += \"\\n  optimal route ristance: \" + str(int(optimal_route_distance))\n",
    "    response += \"\\n  total distance as percentage of optimal distance: \" + str(int(100 * tsp_distance / optimal_route_distance)) + \"%\"\n",
    "    print(response)\n",
    "    \n",
    "    # visualize route\n",
    "    n_towns = points.shape[0]\n",
    "    nodes = nm_instance.weights.reshape(-1, 2)\n",
    "    plt.figure(figsize=(12,10))\n",
    "    plt.scatter(points[:, 0], points[:, 1])\n",
    "    for i in range(n_towns * factor):\n",
    "        first = nodes[i % (n_towns * factor)]\n",
    "        second = nodes[(i + 1) % (n_towns * factor)]\n",
    "        plt.plot((first[0], second[0]), (first[1], second[1]))\n",
    "    plt.show()"
   ]
  },
  {
   "cell_type": "code",
   "execution_count": null,
   "metadata": {
    "pycharm": {
     "name": "#%%\n"
    },
    "scrolled": true
   },
   "outputs": [],
   "source": [
    "factor = 6\n",
    "n_towns = towns.shape[0]\n",
    "\n",
    "nm = NeuralMap(variables=2, metric='euclidean', columns=1, rows=n_towns * factor, hexagonal=False, toroidal=True)\n",
    "nm.train(data=towns)"
   ]
  },
  {
   "cell_type": "code",
   "execution_count": null,
   "metadata": {},
   "outputs": [],
   "source": [
    "tsp(nm, towns, optimal_route_distance)"
   ]
  },
  {
   "cell_type": "code",
   "execution_count": null,
   "metadata": {},
   "outputs": [],
   "source": [
    "# import json\n",
    "\n",
    "# with open(\"datasets/argentina_som.json\", 'w') as outfile:\n",
    "#     json.dump(nm_dict, outfile)"
   ]
  }
 ],
 "metadata": {
  "kernelspec": {
   "display_name": "Python 3",
   "language": "python",
   "name": "python3"
  },
  "language_info": {
   "codemirror_mode": {
    "name": "ipython",
    "version": 3
   },
   "file_extension": ".py",
   "mimetype": "text/x-python",
   "name": "python",
   "nbconvert_exporter": "python",
   "pygments_lexer": "ipython3",
   "version": "3.8.2"
  }
 },
 "nbformat": 4,
 "nbformat_minor": 1
}
