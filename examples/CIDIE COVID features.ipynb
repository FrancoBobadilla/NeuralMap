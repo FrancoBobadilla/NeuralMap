{
 "cells": [
  {
   "cell_type": "code",
   "execution_count": null,
   "metadata": {},
   "outputs": [],
   "source": [
    "import sys\n",
    "sys.path.insert(0, '../')"
   ]
  },
  {
   "cell_type": "code",
   "execution_count": null,
   "metadata": {},
   "outputs": [],
   "source": [
    "import json\n",
    "import pandas as pd\n",
    "import numpy as np\n",
    "from sklearn.preprocessing import MinMaxScaler\n",
    "from scipy.spatial.distance import cdist\n",
    "from neural_map import NeuralMap, _plot"
   ]
  },
  {
   "cell_type": "code",
   "execution_count": null,
   "metadata": {},
   "outputs": [],
   "source": [
    "train_features = np.load('datasets/train_features.npy')\n",
    "train_labels = np.load('datasets/train_labels.npy')\n",
    "test_features = np.load('datasets/test_features.npy')\n",
    "test_labels = np.load('datasets/test_labels.npy')\n",
    "\n",
    "train_features.shape, train_labels.shape, test_features.shape, test_labels.shape"
   ]
  },
  {
   "cell_type": "code",
   "execution_count": null,
   "metadata": {},
   "outputs": [],
   "source": [
    "scaler = MinMaxScaler()\n",
    "\n",
    "s_train_features = scaler.fit_transform(train_features)\n",
    "s_test_features = scaler.transform(test_features)\n",
    "\n",
    "s_train_features.max(), s_train_features.min(), s_test_features.max(), s_test_features.min()"
   ]
  },
  {
   "cell_type": "code",
   "execution_count": null,
   "metadata": {},
   "outputs": [],
   "source": [
    "dictionary = {}\n",
    "\n",
    "with open('datasets/features_training_correlation_10.json') as json_file: \n",
    "    dictionary = json.load(json_file)\n",
    "    dictionary['relative_positions'] = np.array(dictionary['relative_positions'])\n",
    "    dictionary['weights'] = np.array(dictionary['weights'])\n",
    "    \n",
    "nm = NeuralMap(**dictionary)"
   ]
  },
  {
   "cell_type": "code",
   "execution_count": null,
   "metadata": {},
   "outputs": [],
   "source": [
    "nm.plot_unified_distance_matrix(detailed=True, borders=True)"
   ]
  },
  {
   "cell_type": "code",
   "execution_count": null,
   "metadata": {},
   "outputs": [],
   "source": [
    "nm.plot_analysis(data=s_train_features)"
   ]
  },
  {
   "cell_type": "code",
   "execution_count": null,
   "metadata": {},
   "outputs": [],
   "source": [
    "nm.plot_analysis(data=s_test_features)"
   ]
  },
  {
   "cell_type": "code",
   "execution_count": null,
   "metadata": {},
   "outputs": [],
   "source": [
    "nm.plot_labels(data=s_train_features, labels=train_labels)"
   ]
  },
  {
   "cell_type": "code",
   "execution_count": null,
   "metadata": {},
   "outputs": [],
   "source": [
    "nm.plot_labels(data=s_test_features, labels=test_labels)"
   ]
  },
  {
   "cell_type": "code",
   "execution_count": null,
   "metadata": {},
   "outputs": [],
   "source": [
    "# guarda la distancia euclidea (o la que uses) de cada feature de entrenamiento con su nodo ganador.\n",
    "\n",
    "train_quantization_error = np.ones(s_train_features.shape[0]) * np.nan\n",
    "for i in range(s_train_features.shape[0]):\n",
    "    train_quantization_error[i] = nm.generate_activation_map(s_train_features[i]).min()"
   ]
  },
  {
   "cell_type": "code",
   "execution_count": null,
   "metadata": {},
   "outputs": [],
   "source": [
    "# Luego con las imagenes de testing lo que hacemos es:\n",
    "# 1) encontrar el nodo ganador\n",
    "# 2) calcular la distancia entre la imagen(features) de testing contra las imagenes(features) del conjunto de entrenamiento que mapean a ese nodo.\n",
    "# 3) mostramos una imagen y la otra al lado.\n",
    "# Un ejemplo simple es, hacer esos pasos con una imagen de entrenamiento y recuerar la clase de la misma.\n",
    "\n",
    "selected_feature_index = 412\n",
    "\n",
    "if not ('mapped_train_features_indices' in vars() or 'mapped_train_features_indices' in globals()):\n",
    "    mapped_train_features_indices = nm.map_attachments(s_train_features, np.array(range(s_train_features.shape[0])))\n",
    "selected_feature = s_test_features[selected_feature_index]\n",
    "bmu = nm.get_best_matching_unit(selected_feature)\n",
    "train_features_indices = mapped_train_features_indices[bmu]\n",
    "distances = cdist(selected_feature[None], s_train_features[train_features_indices], nm.metric)[0]\n",
    "\n",
    "print(\"\\n\\n\\nSelecetd feature idnex:\\n\\n\", selected_feature_index)\n",
    "print(\"\\n\\n\\nSelecetd feature:\\n\\n\", selected_feature)\n",
    "print(\"\\n\\n\\nSelected feature class:\\n\\n\", test_labels[selected_feature_index])\n",
    "print(\"\\n\\n\\nBest matching unit:\\n\\n\", bmu)\n",
    "print(\"\\n\\n\\nIndices of training features that share the same node:\\n\\n\", mapped_train_features_indices[bmu])\n",
    "print(\"\\n\\n\\nClasses of the training features that shares same node:\\n\\n\", train_labels[train_features_indices])\n",
    "print(\"\\n\\n\\nDistances from selected features to training features:\\n\\n\", distances)"
   ]
  }
 ],
 "metadata": {
  "kernelspec": {
   "display_name": "Python 3",
   "language": "python",
   "name": "python3"
  },
  "language_info": {
   "codemirror_mode": {
    "name": "ipython",
    "version": 3
   },
   "file_extension": ".py",
   "mimetype": "text/x-python",
   "name": "python",
   "nbconvert_exporter": "python",
   "pygments_lexer": "ipython3",
   "version": "3.8.2"
  }
 },
 "nbformat": 4,
 "nbformat_minor": 4
}