{
 "cells": [
  {
   "cell_type": "code",
   "execution_count": null,
   "metadata": {
    "pycharm": {
     "name": "#%%\n"
    }
   },
   "outputs": [],
   "source": [
    "from neural_map import NeuralMap, _plot\n",
    "import matplotlib.pyplot as plt\n",
    "import pandas as pd\n",
    "from sklearn.preprocessing import MinMaxScaler, StandardScaler\n",
    "from sklearn.datasets import load_digits"
   ]
  },
  {
   "cell_type": "code",
   "execution_count": null,
   "metadata": {
    "pycharm": {
     "name": "#%%\n"
    }
   },
   "outputs": [],
   "source": [
    "# cargar el conjunto de datos, extraer los valores numéricos y llevar al rango [0, 1]\n",
    "digits = load_digits()\n",
    "df = pd.DataFrame(digits.data)\n",
    "df['digit'] = pd.Series(digits.target).astype(str)\n",
    "df.columns = df.columns.astype(str)\n",
    "l_columns = ['digit']\n",
    "col = 'digit'\n",
    "scaler = MinMaxScaler()\n",
    "data = scaler.fit_transform(df.drop(l_columns, axis=1).values)\n",
    "df"
   ]
  },
  {
   "cell_type": "code",
   "execution_count": null,
   "metadata": {
    "pycharm": {
     "name": "#%%\n"
    }
   },
   "outputs": [],
   "source": [
    "# instanciación de la clase NeuralMap\n",
    "som = NeuralMap(variables=data.shape[1], columns=16, rows=16, toroidal=True, metric='correlation')"
   ]
  },
  {
   "cell_type": "code",
   "execution_count": null,
   "metadata": {
    "pycharm": {
     "name": "#%%\n"
    },
    "scrolled": false
   },
   "outputs": [],
   "source": [
    "# entranemiento de la instancia\n",
    "som.train(data=data, verbose=False)"
   ]
  },
  {
   "cell_type": "code",
   "execution_count": null,
   "metadata": {
    "scrolled": false
   },
   "outputs": [],
   "source": [
    "som.plot_analysis(data, attached_values=df[col].values, min_cluster_size=8, size=13, title='Distribución de los Dígitos')"
   ]
  },
  {
   "cell_type": "code",
   "execution_count": null,
   "metadata": {},
   "outputs": [],
   "source": [
    "som.plot_unified_distance_matrix(size=13)"
   ]
  },
  {
   "cell_type": "code",
   "execution_count": null,
   "metadata": {
    "scrolled": false
   },
   "outputs": [],
   "source": [
    "som.plot_analysis(data, attached_values=df[col].values, min_cluster_size=8, display_value='index', size=18, title='Distribución de los Dígitos (con índice de los nodos)')\n",
    "plt.show()\n"
   ]
  },
  {
   "cell_type": "code",
   "execution_count": null,
   "metadata": {},
   "outputs": [],
   "source": [
    "selected_nodes = [(8, 7), (8, 8), (2, 11), (8, 10)]\n",
    "for node in selected_nodes:\n",
    "    plt.figure(figsize=(1, 1))\n",
    "    print('\\nnodo seleccionado: ' + str(node))\n",
    "    plt.imshow(som.weights[node].reshape(8, 8), cmap='Greys')\n",
    "    plt.show()\n"
   ]
  },
  {
   "cell_type": "code",
   "execution_count": null,
   "metadata": {},
   "outputs": [],
   "source": [
    "som.plot_analysis(data, attached_values=df[col].values, min_cluster_size=8, display_value='cluster', size=18, title='Distribución de los Dígitos (con índice de los clusters de los nodos)')\n",
    "plt.show()"
   ]
  },
  {
   "cell_type": "code",
   "execution_count": null,
   "metadata": {},
   "outputs": [],
   "source": [
    "selected_clusters = [3, 8]\n",
    "for cluster in selected_clusters:\n",
    "    plt.figure(figsize=(1, 1))\n",
    "    print('\\nselected cluster: ' + str(cluster))\n",
    "    plt.imshow(som.weights[som.hdbscan(min_cluster_size=8)[0] == cluster].mean(axis=0).reshape(8, 8), cmap='Greys')\n",
    "    plt.show()\n"
   ]
  },
  {
   "cell_type": "code",
   "execution_count": null,
   "metadata": {
    "scrolled": false
   },
   "outputs": [],
   "source": [
    "som_eucl = NeuralMap(variables=data.shape[1], columns=16, rows=16, toroidal=True, metric='euclidean')\n",
    "som_eucl.train(data=data, verbose=False)\n",
    "som_eucl.plot_analysis(data, attached_values=df[col].values)"
   ]
  }
 ],
 "metadata": {
  "kernelspec": {
   "display_name": "Python 3",
   "language": "python",
   "name": "python3"
  },
  "language_info": {
   "codemirror_mode": {
    "name": "ipython",
    "version": 3
   },
   "file_extension": ".py",
   "mimetype": "text/x-python",
   "name": "python",
   "nbconvert_exporter": "python",
   "pygments_lexer": "ipython3",
   "version": "3.8.2"
  }
 },
 "nbformat": 4,
 "nbformat_minor": 1
}
