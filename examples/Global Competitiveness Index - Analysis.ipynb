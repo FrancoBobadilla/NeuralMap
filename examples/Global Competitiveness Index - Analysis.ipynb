{
 "cells": [
  {
   "cell_type": "code",
   "execution_count": null,
   "metadata": {},
   "outputs": [],
   "source": [
    "import pandas as pd\n",
    "import numpy as np\n",
    "from sklearn.preprocessing import MinMaxScaler\n",
    "import matplotlib.pyplot as plt\n",
    "from neural_map import NeuralMap, _plot"
   ]
  },
  {
   "cell_type": "code",
   "execution_count": null,
   "metadata": {},
   "outputs": [],
   "source": [
    "base_path = 'datasets'\n",
    "\n",
    "persian_gulf_countries = ['Países del golfo pérsico', ['United Arab Emirates', 'Bahrain', 'Iran, Islamic Rep.', 'Kuwait', 'Oman', 'Qatar', 'Saudi Arabia']]\n",
    "g_20 = ['Grupo de los 20', ['Argentina', 'Australia', 'Brazil', 'Canada', 'China', 'Germany', 'France', 'United Kingdom', 'Italy', 'Japan', 'Korea, Rep.', 'Mexico', 'Russian Federation', 'Saudi Arabia', 'Turkey', 'United States', 'South Africa', 'Indonesia', 'India']]\n",
    "IMF_advanced_economies = ['Economías avanzadas', ['Austria','Belgium','Czech Republic','Denmark','Estonia','Finland','France','Germany','Greece','Iceland','Ireland','Italy','Latvia','Lithuania','Luxembourg','Malta','Netherlands','Norway','Portugal','Slovak Republic','Slovenia','Spain','Sweden','Switzerland','United Kingdom','Cyprus','Hong Kong SAR','Israel','Japan','Singapore','Korea, Rep.','Taiwan, China','Canada','United States','Australia','New Zealand']]\n",
    "latin_america = ['América Latina', ['Argentina','Bolivia','Brazil','Barbados','Chile','Colombia','Costa Rica','Dominican Republic','Ecuador','Guatemala','Honduras','Haiti','Jamaica','Mexico','Nicaragua','Panama','Peru','Paraguay','El Salvador','Trinidad and Tobago','Uruguay','Venezuela']]\n",
    "ex_socialist = ['Ex socialistas', ['Albania', 'Mongolia', 'Armenia','Azerbaijan','Bulgaria','Czech Republic','Estonia','Georgia','Hungary','Kazakhstan','Kyrgyz Republic','Lithuania','Latvia','Moldova','Poland','Romania','Russian Federation','Slovak Republic','Tajikistan','Ukraine','Bosnia and Herzegovina','Croatia','Macedonia, FYR','Montenegro','Serbia','Slovenia']]\n",
    "sub_saharan_africa = ['África subsahariana', ['Angola', 'Benin', 'Botswana', 'Burkina Faso', 'Burundi', 'Cameroon', 'Central African Republic', 'Chad', 'Republic of the Congo', 'Congo, Democratic Rep.', \"Côte d'Ivoire\", 'Eritrea', 'Ethiopia', 'Gabon', 'Gambia, The', 'Ghana', 'Guinea', 'Guinea-Bissau', 'Kenya', 'Lesotho', 'Liberia', 'Madagascar', 'Malawi', 'Mali', 'Mauritania', 'Mozambique', 'Namibia', 'Niger', 'Nigeria', 'Rwanda', 'Senegal', 'Sierra Leone', 'Somalia', 'South Africa', 'Tanzania', 'Togo', 'Uganda', 'Eswatini', 'Zambia', 'Zimbabwe']]\n",
    "\n",
    "aaa_countries = ['Canada', 'Australia', 'Luxembourg', 'Germany', 'Denmark', 'Switzerland', 'Sweden', 'Norway']\n",
    "anglo_sphere = ['Australia', 'Canada', 'United Kingdom', 'United States', 'New Zealand', 'Ireland']                 \n",
    "IMF_HIPC = ['asdasdasd', ['Afghanistan','Benin','Bolivia','Burkina Faso','Burundi','Cameroon','Central African Republic','Chad','Republic of the Congo','Congo, Democratic Rep.','Comoros',\"Côte d'Ivoire\",'Ethiopia', 'Eritrea','Gambia, The','Ghana','Guinea','Guinea-Bissau','Guyana','Haiti','Honduras','Liberia','Madagascar','Mali','Mauritania','Malawi','Mozambique','Nicaragua','Niger','Rwanda','São Tomé and Príncipe','Senegal','Sierra Leone', 'Somalia','Togo','Uganda','Zambia']]\n",
    "south_asia = ['asdasdasd', ['Afghanistan', 'Bangladesh', 'Bhutan', 'India', 'Maldives', 'Nepal', 'Pakistan', 'Sri Lanka']]\n",
    "north_africa = ['asdasdasd', ['Morocco', 'Tunisia', 'Algeria', 'Egypt']]\n"
   ]
  },
  {
   "cell_type": "code",
   "execution_count": null,
   "metadata": {},
   "outputs": [],
   "source": [
    "# cargar el conjunto de datos\n",
    "df = pd.read_csv(base_path + '/GCI_2017.csv')\n",
    "df\n"
   ]
  },
  {
   "cell_type": "code",
   "execution_count": null,
   "metadata": {},
   "outputs": [],
   "source": [
    "# extraer los valores numéricos\n",
    "data = df.drop(columns=['country']).values\n",
    "data"
   ]
  },
  {
   "cell_type": "code",
   "execution_count": null,
   "metadata": {},
   "outputs": [],
   "source": [
    "# escalar los valores al rango [0, 1]\n",
    "scaler = MinMaxScaler()\n",
    "data = scaler.fit_transform(data)\n",
    "data"
   ]
  },
  {
   "cell_type": "code",
   "execution_count": null,
   "metadata": {},
   "outputs": [],
   "source": [
    "# instanciación de la clase NeuralMap\n",
    "som = NeuralMap(\n",
    "\n",
    "  # cantidad de variables que tiene cada país\n",
    "  variables = data.shape[1],\n",
    "\n",
    "  # métrica de distancia\n",
    "  metric = 'correlation',\n",
    "\n",
    "  # propiedades topológicas del mapa\n",
    "  columns = 12,\n",
    "  rows = 12,\n",
    "  hexagonal = True,\n",
    "  toroidal = False\n",
    "\n",
    ")"
   ]
  },
  {
   "cell_type": "code",
   "execution_count": null,
   "metadata": {
    "scrolled": false
   },
   "outputs": [],
   "source": [
    "# entranemiento de la instancia\n",
    "som.train(\n",
    "    \n",
    "  # datos con los que se va a entrenar\n",
    "  data = data,\n",
    "\n",
    "  # cantidad de épocas de entrenamiento\n",
    "  n_epochs=100,\n",
    "\n",
    "  # datos para medir el aprendizaje de la red\n",
    "  eval_data = data,\n",
    "\n",
    "  # método de inicialización de pesos\n",
    "  weight_init_function='uniform',\n",
    "\n",
    "  # función de vecindad\n",
    "  neighbourhood_function='gaussian',\n",
    "\n",
    "  # tasa de aprendizaje y radio\n",
    "  learning_rate_decay_function='linear',\n",
    "  radius_decay_function='exponential',\n",
    "  initial_learning_rate=1.,\n",
    "  final_learning_rate=0.1,\n",
    "  initial_radius=5.0,\n",
    "  final_radius=1.0\n",
    "    \n",
    ")"
   ]
  },
  {
   "cell_type": "code",
   "execution_count": null,
   "metadata": {},
   "outputs": [],
   "source": [
    "som.plot_analysis(data, display_empty_nodes=False, title='Error de cuantización')"
   ]
  },
  {
   "cell_type": "code",
   "execution_count": null,
   "metadata": {},
   "outputs": [],
   "source": [
    "som.plot_unified_distance_matrix()"
   ]
  },
  {
   "cell_type": "code",
   "execution_count": null,
   "metadata": {
    "scrolled": false
   },
   "outputs": [],
   "source": [
    "for i, subgroup in enumerate([IMF_advanced_economies, g_20, sub_saharan_africa, latin_america, ex_socialist, persian_gulf_countries]):\n",
    "  som.plot_analysis(data, display_empty_nodes=False, title=subgroup[0], attached_values=df['country'].values, labels_to_display=subgroup[1])"
   ]
  },
  {
   "cell_type": "code",
   "execution_count": null,
   "metadata": {
    "scrolled": true
   },
   "outputs": [],
   "source": [
    "som.plot_weights(scaler=scaler, headers=df.drop(columns=['country']).columns, size=7)"
   ]
  },
  {
   "cell_type": "code",
   "execution_count": null,
   "metadata": {
    "scrolled": false
   },
   "outputs": [],
   "source": [
    "weights = som.weights.reshape(som.rows * som.columns, -1)\n",
    "columns = df.drop(columns=['country']).columns.to_list()\n",
    "selected_attributes = {\n",
    "    'Apertura económica': [\n",
    "        'Effect of taxation on incentives to invest, 1-7 (best)',\n",
    "        'Effect of taxation on incentives to work, 1-7 (best)',\n",
    "        'Flexibility of wage determination, 1-7 (best)',\n",
    "        'Burden of government regulation, 1-7 (best)',\n",
    "        'Imports as a percentage of GDP*',\n",
    "        'Exports as a percentage of GDP*',\n",
    "        'Prevalence of trade barriers, 1-7 (best)'\n",
    "    ],\n",
    "    'Capacidad de innovación y ventajas comeptitivas': [\n",
    "        'Nature of competitive advantage, 1-7 (best)',\n",
    "        'Capacity for innovation, 1-7 (best)',\n",
    "        'Quality of scientific research institutions, 1-7 (best)',\n",
    "        'Company spending on R&D, 1-7 (best)',\n",
    "        'University-industry collaboration in R&D, 1-7 (best)',\n",
    "        'Gov’t procurement of advanced tech products, 1-7 (best)'\n",
    "    ],\n",
    "    'Telefonía móvil': [\n",
    "        'Mobile telephone subscriptions/100 pop.*',\n",
    "        'Mobile broadband subscriptions/100 pop.*'\n",
    "    ]\n",
    "}\n",
    "for attributes_group in selected_attributes:\n",
    "    print('\\n\\n   ' + attributes_group)\n",
    "    for attribute in [i for i, j in enumerate(columns) if j in selected_attributes[attributes_group]]:\n",
    "        som.plot_analysis(weights, aggregation_function=np.mean, attached_values=weights[:, attribute], size=7, title=columns[attribute])\n",
    "        plt.show()\n"
   ]
  },
  {
   "cell_type": "code",
   "execution_count": null,
   "metadata": {},
   "outputs": [],
   "source": [
    "map_countries = som.map_attachments(data, df['country'])\n",
    "for node in [(0, 11), (0, 3), (6, 9), (0, 0), (4, 11)]:\n",
    "    print(node)\n",
    "    print(str(map_countries[node]) + '\\n')\n"
   ]
  },
  {
   "cell_type": "code",
   "execution_count": null,
   "metadata": {},
   "outputs": [],
   "source": [
    "Argentina = scaler.transform(df[df['country'] == 'Argentina'].drop(columns=['country']).values)\n",
    "som.get_best_matching_unit(Argentina)"
   ]
  },
  {
   "cell_type": "code",
   "execution_count": null,
   "metadata": {},
   "outputs": [],
   "source": [
    "som_dict = som.get_dict()\n",
    "\n",
    "# ... guardar como JSON en el disco duro y cargar de nuevo ...\n",
    "\n",
    "new_som = NeuralMap(**som_dict)\n",
    "\n",
    "som.plot_analysis(data, display_empty_nodes=False)"
   ]
  },
  {
   "cell_type": "code",
   "execution_count": null,
   "metadata": {},
   "outputs": [],
   "source": [
    "clusters = 10\n",
    "\n",
    "labels, centers = som.k_means(clusters)\n",
    "_plot.tiles(som.positions, som.hexagonal, labels, norm=False, title='Clustering con K-means. Valor de K = ' + str(clusters), labels=list(range(clusters)), color_map=plt.cm.get_cmap('hsv', clusters + 1))\n",
    "\n",
    "labels, centers = som.k_medoids(clusters)\n",
    "_plot.tiles(som.positions, som.hexagonal, labels, norm=False, title='Clustering con K-medoids. Valor de K = ' + str(clusters), labels=list(range(clusters)), color_map=plt.cm.get_cmap('hsv', clusters + 1))"
   ]
  },
  {
   "cell_type": "code",
   "execution_count": null,
   "metadata": {
    "scrolled": true
   },
   "outputs": [],
   "source": [
    "batch = 5\n",
    "if batch:\n",
    "  labels = df['country'].values\n",
    "  for i in range(labels.shape[0] // batch):\n",
    "    som.plot_analysis(data, display_empty_nodes=False, attached_values=labels, labels_to_display=labels[i * batch : (i + 1) * batch])\n",
    "  som.plot_analysis(data, display_empty_nodes=False, attached_values=labels, labels_to_display=labels[-(labels.shape[0] % batch):])"
   ]
  }
 ],
 "metadata": {
  "kernelspec": {
   "display_name": "Python 3",
   "language": "python",
   "name": "python3"
  },
  "language_info": {
   "codemirror_mode": {
    "name": "ipython",
    "version": 3
   },
   "file_extension": ".py",
   "mimetype": "text/x-python",
   "name": "python",
   "nbconvert_exporter": "python",
   "pygments_lexer": "ipython3",
   "version": "3.8.2"
  }
 },
 "nbformat": 4,
 "nbformat_minor": 4
}
