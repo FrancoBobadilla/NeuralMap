{
 "cells": [
  {
   "cell_type": "code",
   "execution_count": null,
   "metadata": {
    "scrolled": false
   },
   "outputs": [],
   "source": [
    "from numpy import array, log, empty\n",
    "from numba import jit, float64\n",
    "\n",
    "@jit(float64[:, :](float64[:, :], float64[:, :]), nopython=True, fastmath=True)\n",
    "def continuous_jaccard(x, w):\n",
    "    res = empty((x.shape[0], w.shape[0]), dtype=x.dtype)\n",
    "    for i in range(x.shape[0]):\n",
    "        for j in range(w.shape[0]):\n",
    "            num = 0.0\n",
    "            denum = 0.0\n",
    "            for k in range(x.shape[1]):\n",
    "                num += x[i, k] * w[j, k]\n",
    "                denum += x[i, k] ** 2 + w[j, k] ** 2\n",
    "            \n",
    "            denum -= num\n",
    "            \n",
    "            if denum == 0:\n",
    "                num = 1. - num\n",
    "                denum = 1.\n",
    "                \n",
    "            res[i, j] = 1 - num / denum\n",
    "            \n",
    "    return res\n",
    "\n",
    "XB = array([[0., 0.], [-10.1, -10.1], [-0.1, 0.9], [0.1, 0.3], [0.0, -10.]])\n",
    "%time continuous_jaccard(XB, XB)"
   ]
  },
  {
   "cell_type": "code",
   "execution_count": null,
   "metadata": {
    "scrolled": true
   },
   "outputs": [],
   "source": [
    "import sys\n",
    "sys.path.insert(0, '../')"
   ]
  },
  {
   "cell_type": "code",
   "execution_count": null,
   "metadata": {
    "scrolled": true
   },
   "outputs": [],
   "source": [
    "from neural_map import NeuralMap, _plot\n",
    "import matplotlib.pyplot as plt\n",
    "import pandas as pd\n",
    "from sklearn.preprocessing import MinMaxScaler"
   ]
  },
  {
   "cell_type": "code",
   "execution_count": null,
   "metadata": {
    "scrolled": true
   },
   "outputs": [],
   "source": [
    "df = pd.read_csv('datasets/blob_data_5dims_10clusters.csv')\n",
    "l_columns = df.columns[0]\n",
    "col = None"
   ]
  },
  {
   "cell_type": "code",
   "execution_count": null,
   "metadata": {
    "scrolled": true
   },
   "outputs": [],
   "source": [
    "scaler = MinMaxScaler()\n",
    "data = scaler.fit_transform(df.drop(l_columns, axis=1).values)\n",
    "\n",
    "data.shape"
   ]
  },
  {
   "cell_type": "code",
   "execution_count": null,
   "metadata": {
    "scrolled": true
   },
   "outputs": [],
   "source": [
    "som = NeuralMap(z=data.shape[1], x=16, y=16, metric=continuous_jaccard)"
   ]
  },
  {
   "cell_type": "code",
   "execution_count": null,
   "metadata": {
    "scrolled": false
   },
   "outputs": [],
   "source": [
    "som.train(data=data, eval_data=data, n_epochs=100, radius_decay_function='exponential')"
   ]
  },
  {
   "cell_type": "code",
   "execution_count": null,
   "metadata": {
    "scrolled": false
   },
   "outputs": [],
   "source": [
    "som.plot_analysis(data, min_cluster_size=4, display_empty_nodes=True)"
   ]
  },
  {
   "cell_type": "code",
   "execution_count": null,
   "metadata": {
    "scrolled": false
   },
   "outputs": [],
   "source": [
    "som.plot_unified_distance_matrix(size=5, detailed=False, borders=False)\n",
    "\n",
    "_plot.tiles(som.positions, som.hexagonal, som.analyse(data)[0], title='frecuencia de actvación', size = 5, borders=False)\n",
    "NeuralMap(z=2, x=16, y=16, weights=som.get_dict()['rp']).plot_unified_distance_matrix(size=5, detailed=False, borders=False)"
   ]
  },
  {
   "cell_type": "code",
   "execution_count": null,
   "metadata": {
    "scrolled": true
   },
   "outputs": [],
   "source": [
    "actfreq, q, mean_distance = som.analyse(data)\n",
    "umatrix, distance_matrix = som.get_unified_distance_matrix()\n",
    "labels, probabilities, outlier_socer = som.hdbscan(min_cluster_size=5)\n",
    "\n",
    "_plot.tiles(som.positions, som.hexagonal, umatrix[..., -1], title='distancia')\n",
    "_plot.tiles(som.positions, som.hexagonal, actfreq, title='frecuencia de actvación')\n",
    "_plot.tiles(som.positions, som.hexagonal, q, title='error de cuantización')\n",
    "_plot.tiles(som.positions, som.hexagonal, mean_distance, title='distancia media')\n",
    "_plot.tiles(som.positions, som.hexagonal, probabilities, title = 'probabilidad de prtenencia')\n",
    "_plot.tiles(som.positions, som.hexagonal, outlier_socer, title = 'outiler score')"
   ]
  },
  {
   "cell_type": "code",
   "execution_count": null,
   "metadata": {
    "scrolled": false
   },
   "outputs": [],
   "source": [
    "clusters = 10\n",
    "\n",
    "labels, centers = som.k_means(clusters)\n",
    "_plot.tiles(som.positions, som.hexagonal, labels, norm=False, title='Clustering con K-means. Valor de K = ' + str(clusters), labels=list(range(clusters)))\n",
    "\n",
    "labels, centers = som.k_medoids(clusters)\n",
    "_plot.tiles(som.positions, som.hexagonal, labels, norm=False, title='Clustering con K-medoids. Valor de K = ' + str(clusters), labels=list(range(clusters)))\n"
   ]
  },
  {
   "cell_type": "code",
   "execution_count": null,
   "metadata": {
    "scrolled": true
   },
   "outputs": [],
   "source": [
    "som.plot_cluster_weights_vectors(cluster=0)\n",
    "som.plot_weights_vector(node_index=(0, 0))"
   ]
  }
 ],
 "metadata": {
  "kernelspec": {
   "display_name": "Python 3",
   "language": "python",
   "name": "python3"
  },
  "language_info": {
   "codemirror_mode": {
    "name": "ipython",
    "version": 3
   },
   "file_extension": ".py",
   "mimetype": "text/x-python",
   "name": "python",
   "nbconvert_exporter": "python",
   "pygments_lexer": "ipython3",
   "version": "3.8.2"
  }
 },
 "nbformat": 4,
 "nbformat_minor": 4
}
